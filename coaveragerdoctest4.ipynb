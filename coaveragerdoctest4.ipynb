{
 "cells": [
  {
   "cell_type": "code",
   "execution_count": 1,
   "id": "74f1625f-46a2-41af-86e0-58ed0c5ab26f",
   "metadata": {},
   "outputs": [],
   "source": [
    "from collections.abc import Generator"
   ]
  },
  {
   "cell_type": "code",
   "execution_count": 2,
   "id": "15dd82d9-7751-43a3-91c6-bbad2ac5b506",
   "metadata": {},
   "outputs": [],
   "source": [
    "from typing import Generator, Any"
   ]
  },
  {
   "cell_type": "code",
   "execution_count": 3,
   "id": "72f06bc9-6a2c-4bb6-bfff-361a83721381",
   "metadata": {},
   "outputs": [],
   "source": [
    "from typing import Generator, Any\n",
    "\n",
    "def averager2(verbose: bool = False) -> Generator[None, Any, float]:\n",
    "    total = 0\n",
    "    count = 0\n",
    "    result = None\n",
    "    while True:\n",
    "        term = yield result\n",
    "        if term is None:\n",
    "            break\n",
    "        total += term\n",
    "        count += 1\n",
    "        result = total / count\n",
    "        if verbose:\n",
    "            print(f\"Received: {term}, Current average: {result}\")\n"
   ]
  },
  {
   "cell_type": "code",
   "execution_count": null,
   "id": "ea8c7eeb-c08d-4603-884d-bf0a849db1ab",
   "metadata": {},
   "outputs": [],
   "source": []
  }
 ],
 "metadata": {
  "kernelspec": {
   "display_name": "Python 3 (ipykernel)",
   "language": "python",
   "name": "python3"
  },
  "language_info": {
   "codemirror_mode": {
    "name": "ipython",
    "version": 3
   },
   "file_extension": ".py",
   "mimetype": "text/x-python",
   "name": "python",
   "nbconvert_exporter": "python",
   "pygments_lexer": "ipython3",
   "version": "3.12.3"
  }
 },
 "nbformat": 4,
 "nbformat_minor": 5
}
